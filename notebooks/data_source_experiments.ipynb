{
 "cells": [
  {
   "cell_type": "markdown",
   "metadata": {},
   "source": [
    "# Nebenüberlegungen zur Visualisierung"
   ]
  },
  {
   "cell_type": "markdown",
   "metadata": {},
   "source": [
    "## Reddit-API verwenden? "
   ]
  },
  {
   "cell_type": "code",
   "execution_count": 128,
   "metadata": {
    "collapsed": true
   },
   "outputs": [],
   "source": [
    "%matplotlib inline\n",
    "import praw\n",
    "import json\n",
    "import collections\n",
    "from datetime import datetime\n",
    "import nltk\n",
    "import gensim\n",
    "import pandas as pd\n",
    "import matplotlib.pyplot as plt\n",
    "import string\n",
    "from gensim import corpora, models, similarities\n",
    "from collections import defaultdict\n",
    "from pathlib import Path\n",
    "\n",
    "secret = json.load(open('.secret.json'))\n",
    "reddit = praw.Reddit(client_id=secret[\"client_id\"], \n",
    "                     client_secret= secret[\"client_secret\"], \n",
    "                     user_agent='dataviz:v0.1 (by /u/nobody22)')"
   ]
  },
  {
   "cell_type": "code",
   "execution_count": 26,
   "metadata": {},
   "outputs": [
    {
     "name": "stdout",
     "output_type": "stream",
     "text": [
      "Ask Anything Monday - Weekly Thread\n",
      "Software engineering in Python\n",
      "PyBites Code Challenge 29 - Create a Simple Django App\n",
      "Getting a traceback error on a beginner's regular expression program\n",
      "Non-horrible way to parse large text files?\n",
      "Using RoboBrowser to submit forms\n",
      "How would I go about creating a bot that tells me if audio is playing in a certain tab?\n",
      "Need help with multiple processes to grab wiki definitions\n",
      "How do I send a dictonry to csv with multiple columns?\n",
      "More Pythonic way to deal with list indices?\n"
     ]
    }
   ],
   "source": [
    "for submission in reddit.subreddit('learnpython').hot(limit=10):\n",
    "    print(submission.title)"
   ]
  },
  {
   "cell_type": "markdown",
   "metadata": {},
   "source": [
    "<blockquote class=\"reddit-card\" data-card-created=\"1493683113\"><a href=\"https://www.reddit.com/r/news/comments/3v6iq7/authorities_respond_to_20_victim_shooting/?ref=share&ref_source=embed\">Authorities Respond to “20 Victim Shooting” Incident in San Bernardino: Fire Dept.</a> from <a href=\"http://www.reddit.com/r/news\">news</a></blockquote>\n",
    "<script async src=\"//embed.redditmedia.com/widgets/platform.js\" charset=\"UTF-8\"></script>"
   ]
  },
  {
   "cell_type": "code",
   "execution_count": 27,
   "metadata": {},
   "outputs": [
    {
     "data": {
      "text/plain": [
       "Comment(id='dkpl89f')"
      ]
     },
     "execution_count": 27,
     "metadata": {},
     "output_type": "execute_result"
    }
   ],
   "source": [
    "submission.comments.replace_more\n",
    "top = submission.comments[0]\n",
    "top"
   ]
  },
  {
   "cell_type": "code",
   "execution_count": 28,
   "metadata": {
    "collapsed": true
   },
   "outputs": [],
   "source": [
    "def get_comment_data(comment):\n",
    "    c = {}\n",
    "    c['id'] = comment.id\n",
    "    c['created_utc'] = comment.created_utc\n",
    "    if comment.author:\n",
    "        c['author_name'] = comment.author.name \n",
    "    if comment.body:\n",
    "        c['body'] = comment.body  \n",
    "    if comment.score:\n",
    "        c['score'] = comment.score\n",
    "    comment.replies.replace_more(limit=0)\n",
    "    if comment.replies:\n",
    "        c['children'] = [get_comment_data(r) for r in comment.replies]\n",
    "    return c"
   ]
  },
  {
   "cell_type": "code",
   "execution_count": 29,
   "metadata": {
    "collapsed": true
   },
   "outputs": [],
   "source": [
    "submission = reddit.submission(url='https://www.reddit.com/r/news/comments/3v6iq7/authorities_respond_to_20_victim_shooting/')"
   ]
  },
  {
   "cell_type": "code",
   "execution_count": 30,
   "metadata": {},
   "outputs": [
    {
     "data": {
      "text/plain": [
       "'t3_3v6iq7'"
      ]
     },
     "execution_count": 30,
     "metadata": {},
     "output_type": "execute_result"
    }
   ],
   "source": [
    "str(datetime.fromtimestamp(submission.created_utc))\n",
    "submission.fullname"
   ]
  },
  {
   "cell_type": "code",
   "execution_count": 31,
   "metadata": {
    "collapsed": true
   },
   "outputs": [],
   "source": [
    "not_replaced = submission.comments.replace_more(limit=0)"
   ]
  },
  {
   "cell_type": "code",
   "execution_count": 32,
   "metadata": {
    "collapsed": true
   },
   "outputs": [],
   "source": [
    "comment_data = [get_comment_data(root_comment) for root_comment in submission.comments]"
   ]
  },
  {
   "cell_type": "code",
   "execution_count": 33,
   "metadata": {},
   "outputs": [
    {
     "data": {
      "text/plain": [
       "[Comment(id='cxl57n3'),\n",
       " <MoreComments count=9, children=['cxl5bxo', 'cxl5atu', 'cxl58ej', '...']>,\n",
       " Comment(id='cxlgax8'),\n",
       " <MoreComments count=19, children=['cxlghdk', 'cxlgdr7']>,\n",
       " Comment(id='cxlbpun'),\n",
       " <MoreComments count=17, children=['cxlbxsz', 'cxlbvae', 'cxlbstp', '...']>,\n",
       " Comment(id='cxks4zf'),\n",
       " <MoreComments count=1, children=['cxks6xw']>,\n",
       " Comment(id='cxkwqka'),\n",
       " <MoreComments count=2, children=['cxkwzyb']>,\n",
       " Comment(id='cxkzw4j'),\n",
       " <MoreComments count=6, children=['cxkzyw1', 'cxl028b', 'cxkzygb', '...']>,\n",
       " Comment(id='cxl27yw'),\n",
       " Comment(id='cxl295y'),\n",
       " <MoreComments count=1, children=['cxl2bhv']>,\n",
       " Comment(id='cxl2a3d'),\n",
       " <MoreComments count=1, children=['cxl290d']>,\n",
       " Comment(id='cxl32f3'),\n",
       " <MoreComments count=2, children=['cxl5zj4', 'cxl3jod']>,\n",
       " Comment(id='cxl47n4'),\n",
       " <MoreComments count=14, children=['cxl4ctd', 'cxl7h9i', 'cxl4a0h', '...']>,\n",
       " Comment(id='cxlzcg9'),\n",
       " <MoreComments count=8, children=['cxm7rtm', 'cxlzv9x']>,\n",
       " Comment(id='cxkuonf'),\n",
       " <MoreComments count=3, children=['cxkyxao', 'cxkusay', 'cxkur1p']>,\n",
       " Comment(id='cxkt309'),\n",
       " Comment(id='cxktf2c'),\n",
       " <MoreComments count=1, children=['cxl3ajv']>,\n",
       " <MoreComments count=11, children=['cxkt4uh', 'cxkum2q', 'cxkt3n6', '...']>,\n",
       " Comment(id='cxkr448'),\n",
       " Comment(id='cxkrvm0'),\n",
       " <MoreComments count=18, children=['cxkt77k', 'cxl0uo3', 'cxktvu0', '...']>,\n",
       " Comment(id='cxl8prs'),\n",
       " Comment(id='cxl8r8l'),\n",
       " <MoreComments count=1, children=['cxl980g']>,\n",
       " Comment(id='cxkvtua'),\n",
       " Comment(id='cxkw2xk'),\n",
       " <MoreComments count=1, children=['cxkxih3']>,\n",
       " Comment(id='cxkvwsv'),\n",
       " Comment(id='cxkvwbz'),\n",
       " <MoreComments count=21, children=['cxkwahs', 'cxkvznl', 'cxkvxtu', '...']>,\n",
       " Comment(id='cxktyjz'),\n",
       " Comment(id='cxktzsr'),\n",
       " <MoreComments count=4, children=['cxkv37e', 'cxkvgnj', 'cxkuc5b']>,\n",
       " <MoreComments count=7, children=['cxkytgg', 'cxkzs40', 'cxku3id', '...']>,\n",
       " Comment(id='cxkuo1k'),\n",
       " Comment(id='cxkupdg'),\n",
       " <MoreComments count=4, children=['cxkvtl4', 'cxkw42p', 'cxkwsl2', 'cxkvmp3']>,\n",
       " <MoreComments count=10, children=['cxkup9e', 'cxkupqm', 'cxkuoup', '...']>,\n",
       " Comment(id='cxl1mny'),\n",
       " <MoreComments count=6, children=['cxl1pc1', 'cxl1xyb', 'cxl1piu', '...']>,\n",
       " Comment(id='cxl4o1m'),\n",
       " <MoreComments count=7, children=['cxl4q1s', 'cxl4t9h', 'cxl4qna', '...']>,\n",
       " Comment(id='cxlb8y9'),\n",
       " <MoreComments count=4, children=['cxlbl97', 'cxlba7o', 'cxlblse']>,\n",
       " Comment(id='cxld0ln'),\n",
       " <MoreComments count=3, children=['cxld5so', 'cxldcqp']>,\n",
       " Comment(id='cxlg2af'),\n",
       " Comment(id='cxktn1t'),\n",
       " Comment(id='cxkwj3f'),\n",
       " <MoreComments count=1, children=['cxkwprs']>,\n",
       " Comment(id='cxkypfb'),\n",
       " <MoreComments count=7, children=['cxkyz2x', 'cxkyr62', 'cxkyxbw']>,\n",
       " Comment(id='cxkyrx6'),\n",
       " <MoreComments count=2, children=['cxkyva3']>,\n",
       " Comment(id='cxkzoo0'),\n",
       " <MoreComments count=3, children=['cxkzqmq', 'cxkztar', 'cxkzqy4']>,\n",
       " Comment(id='cxkzv4i'),\n",
       " <MoreComments count=2, children=['cxkzxu3']>,\n",
       " Comment(id='cxl0qtc'),\n",
       " Comment(id='cxl29p7'),\n",
       " <MoreComments count=5, children=['cxl2a8h', 'cxl2by9']>,\n",
       " Comment(id='cxl3n54'),\n",
       " Comment(id='cxl3x4a'),\n",
       " <MoreComments count=1, children=['cxl40wk']>,\n",
       " Comment(id='cxl4np6'),\n",
       " Comment(id='cxl5h84'),\n",
       " Comment(id='cxl7mr5'),\n",
       " <MoreComments count=4, children=['cxl7plo', 'cxl7pbl', 'cxl7ph8', 'cxl7ssp']>,\n",
       " Comment(id='cxl9038'),\n",
       " Comment(id='cxlbvik'),\n",
       " <MoreComments count=1, children=['cxlc2fg']>,\n",
       " Comment(id='cxlc5cn'),\n",
       " <MoreComments count=5, children=['cxlcavh', 'cxlc7ri']>,\n",
       " Comment(id='cxlc6pu'),\n",
       " <MoreComments count=6, children=['cxlc802', 'cxlcd3i', 'cxlcaam']>,\n",
       " Comment(id='cxlcbn6'),\n",
       " Comment(id='cxlccmg'),\n",
       " <MoreComments count=2, children=['cxlcdxv', 'cxlcf77']>,\n",
       " <MoreComments count=1, children=['cxlcfjp']>,\n",
       " Comment(id='cxlcbud'),\n",
       " Comment(id='cxle6fn'),\n",
       " <MoreComments count=5, children=['cxle8wo', 'cxle82r', 'cxle7dx', 'cxle86z']>,\n",
       " Comment(id='cxlebe5'),\n",
       " <MoreComments count=1, children=['cxlefb9']>,\n",
       " Comment(id='cxlei3y'),\n",
       " <MoreComments count=1, children=['cxlewq7']>,\n",
       " Comment(id='cxleirq'),\n",
       " <MoreComments count=1, children=['cxleki1']>,\n",
       " Comment(id='cxlejbf'),\n",
       " Comment(id='cxleqy3'),\n",
       " <MoreComments count=23, children=['cxletfh', 'cxletcn']>,\n",
       " Comment(id='cxlfk0r'),\n",
       " <MoreComments count=17, children=['cxlflvl', 'cxlfkir', 'cxlfmk1']>,\n",
       " Comment(id='cxlvbzg'),\n",
       " <MoreComments count=3, children=['cxlvhm9', 'cxlvk71', 'cxlwju7']>,\n",
       " Comment(id='cxlw49p'),\n",
       " Comment(id='cxld4aw'),\n",
       " <MoreComments count=3, children=['cxldanf', 'cxldcyz']>,\n",
       " Comment(id='cxkr0x2'),\n",
       " Comment(id='cxkrax4'),\n",
       " Comment(id='cxks0pv'),\n",
       " Comment(id='cxku8bp'),\n",
       " <MoreComments count=1, children=['cxkxmhj']>,\n",
       " <MoreComments count=11, children=['cxky807', 'cxktxyn', 'cxkuc4z', '...']>,\n",
       " <MoreComments count=209, children=['cxkught', 'cxksbyb', 'cxkumie', '...']>,\n",
       " Comment(id='cxktqh1'),\n",
       " <MoreComments count=7, children=['cxku0sd', 'cxkuwdi']>,\n",
       " Comment(id='cxkulbt'),\n",
       " Comment(id='cxkvywd'),\n",
       " <MoreComments count=16, children=['cxkw82r', 'cxkw6mc', 'cxkwcit', '...']>,\n",
       " Comment(id='cxkwswy'),\n",
       " <MoreComments count=10, children=['cxkwwao', 'cxkx3r9', 'cxkyggj', '...']>,\n",
       " Comment(id='cxl4s2j'),\n",
       " <MoreComments count=3, children=['cxl4tdt', 'cxl4tpm', 'cxl4vl6']>,\n",
       " Comment(id='cxl5znh'),\n",
       " <MoreComments count=1, children=['cxl6pdg']>,\n",
       " Comment(id='cxlcbl1'),\n",
       " Comment(id='cxlcc2z'),\n",
       " <MoreComments count=16, children=['cxlcctx', 'cxlcf8n', 'cxlcf11', '...']>,\n",
       " Comment(id='cxkty2z'),\n",
       " <MoreComments count=5, children=['cxkvcnl', 'cxkuasa', 'cxktzok', 'cxku3d2']>,\n",
       " Comment(id='cxl208a'),\n",
       " <MoreComments count=5, children=['cxl215k']>,\n",
       " Comment(id='cxl37o4'),\n",
       " <MoreComments count=5, children=['cxl3922', 'cxl391f', 'cxl3azn', '...']>,\n",
       " Comment(id='cxl5szj'),\n",
       " <MoreComments count=3, children=['cxl5uag', 'cxl5x8d', 'cxl5wxz']>,\n",
       " Comment(id='cxl8qpe'),\n",
       " Comment(id='cxl8w4u'),\n",
       " <MoreComments count=1, children=['cxl8zqv']>,\n",
       " Comment(id='cxl455r'),\n",
       " Comment(id='cxl46ef'),\n",
       " Comment(id='cxl46uj'),\n",
       " <MoreComments count=3, children=['cxl4a55', 'cxl48vu', 'cxl4de7']>,\n",
       " Comment(id='cxl5z0u'),\n",
       " <MoreComments count=14, children=['cxl66e9', 'cxl61qc', 'cxl60xy', '...']>,\n",
       " Comment(id='cxlb0jl'),\n",
       " <MoreComments count=10, children=['cxlb3rm', 'cxlb36a', 'cxlb2l2', 'cxlb205']>,\n",
       " Comment(id='cxl82bb'),\n",
       " Comment(id='cxl8405'),\n",
       " <MoreComments count=3, children=['cxl8b8p', 'cxl8hqy']>,\n",
       " <MoreComments count=12, children=['cxl84k0', 'cxlbx0s', 'cxl8a30', '...']>,\n",
       " Comment(id='cxl7q2t'),\n",
       " <MoreComments count=4, children=['cxl7qyh', 'cxl88iu']>,\n",
       " Comment(id='cxkvcoj'),\n",
       " <MoreComments count=7, children=['cxkvmow', 'cxkvlic', 'cxkvnmw', '...']>,\n",
       " Comment(id='cxkx0qq'),\n",
       " <MoreComments count=3, children=['cxkx866', 'cxkx5an']>,\n",
       " Comment(id='cxl1w20'),\n",
       " Comment(id='cxl1ze5'),\n",
       " <MoreComments count=2, children=['cxl22yw', 'cxl23bm']>,\n",
       " <MoreComments count=8, children=['cxl1ztz', 'cxl207w', 'cxl23ut', 'cxl1za7']>,\n",
       " Comment(id='cxl8qmh'),\n",
       " <MoreComments count=9, children=['cxl9729', 'cxl9cx2', 'cxl8uzr', '...']>,\n",
       " Comment(id='cxkuw4j'),\n",
       " Comment(id='cxl13c2'),\n",
       " Comment(id='cxl36sz'),\n",
       " <MoreComments count=4, children=['cxl3kiz', 'cxl3k1w', 'cxl39fx', 'cxl3hgm']>,\n",
       " Comment(id='cxl4951'),\n",
       " <MoreComments count=4, children=['cxl4cht', 'cxl4dzf', 'cxl4bt0', 'cxl4brx']>,\n",
       " <MoreComments count=42115, children=['cxksu81', 'cxkzv2e', 'cxks4y3', '...']>]"
      ]
     },
     "execution_count": 33,
     "metadata": {},
     "output_type": "execute_result"
    }
   ],
   "source": [
    "more = not_replaced[0]\n",
    "more.comments()"
   ]
  },
  {
   "cell_type": "code",
   "execution_count": 35,
   "metadata": {},
   "outputs": [
    {
     "data": {
      "text/plain": [
       "496"
      ]
     },
     "execution_count": 35,
     "metadata": {},
     "output_type": "execute_result"
    }
   ],
   "source": [
    "def rec_sum(c):\n",
    "    if not \"children\" in c:\n",
    "        return 1\n",
    "    else:\n",
    "        return 1 + sum([rec_sum(child) for child in c[\"children\"]])\n",
    "rec_sum(submission_data)"
   ]
  },
  {
   "cell_type": "code",
   "execution_count": 46,
   "metadata": {},
   "outputs": [
    {
     "data": {
      "text/plain": [
       "495"
      ]
     },
     "execution_count": 46,
     "metadata": {},
     "output_type": "execute_result"
    }
   ],
   "source": [
    "len(submission.comments.list())"
   ]
  },
  {
   "cell_type": "markdown",
   "metadata": {},
   "source": [
    "Fazit: Eher nicht. Viele API anfragen für große Threads."
   ]
  },
  {
   "cell_type": "markdown",
   "metadata": {},
   "source": [
    "## Topic Modeling für farbliche Visualisierung?"
   ]
  },
  {
   "cell_type": "code",
   "execution_count": 53,
   "metadata": {
    "collapsed": true
   },
   "outputs": [],
   "source": [
    "def pluck_doc(comment):\n",
    "    return comment.id, comment.body\n",
    "corpus = pd.DataFrame(list(map(pluck_doc, submission.comments.list())), columns=['id', 'body'])"
   ]
  },
  {
   "cell_type": "code",
   "execution_count": 73,
   "metadata": {},
   "outputs": [
    {
     "data": {
      "image/png": "[encoded data removed]",
      "text/plain": [
       "<matplotlib.figure.Figure at 0x7fde503ab3c8>"
      ]
     },
     "metadata": {},
     "output_type": "display_data"
    }
   ],
   "source": [
    "plt.hist(corpus.body.map(lambda b: len(b)).sort_values(), bins=40);"
   ]
  },
  {
   "cell_type": "code",
   "execution_count": 143,
   "metadata": {
    "collapsed": true
   },
   "outputs": [],
   "source": [
    "tok = nltk.tokenize.TweetTokenizer(strip_handles=True, reduce_len=True)\n",
    "stop = set(nltk.corpus.stopwords.words('english'))\n",
    "stop.add(\"deleted\")\n",
    "stop.add(\"removed\")\n",
    "def tokens(body):\n",
    "    return [w.lower() for w in tok.tokenize(body) \n",
    "            if (not w in string.punctuation) \n",
    "            and (not \"/\" in w) and len(w) > 1\n",
    "            and not w in stop]"
   ]
  },
  {
   "cell_type": "code",
   "execution_count": 144,
   "metadata": {
    "collapsed": true
   },
   "outputs": [],
   "source": [
    "corpus[\"tokens\"] = corpus.body.map(tokens)\n",
    "frequency  = defaultdict(int)\n",
    "for text in corpus.tokens:\n",
    "    for token in text:\n",
    "        frequency[token] += 1"
   ]
  },
  {
   "cell_type": "code",
   "execution_count": 145,
   "metadata": {
    "collapsed": true
   },
   "outputs": [],
   "source": [
    "corpus[\"tokens\"] = corpus.tokens.apply(\n",
    "    lambda text: [token for token in text if frequency[token] > 1])"
   ]
  },
  {
   "cell_type": "code",
   "execution_count": 147,
   "metadata": {
    "collapsed": true
   },
   "outputs": [],
   "source": [
    "dictornary = corpora.Dictionary(corpus.tokens)\n",
    "dictornary.save(str(Path(\"data\") / (submission.id + '.dict')))"
   ]
  },
  {
   "cell_type": "code",
   "execution_count": 148,
   "metadata": {
    "collapsed": true
   },
   "outputs": [],
   "source": [
    "corpus[\"bow\"] = corpus.tokens.map(dictornary.doc2bow)"
   ]
  },
  {
   "cell_type": "code",
   "execution_count": 151,
   "metadata": {
    "collapsed": true
   },
   "outputs": [],
   "source": [
    "model = models.LdaModel(corpus.bow, id2word=dictornary, num_topics=10)"
   ]
  },
  {
   "cell_type": "code",
   "execution_count": 159,
   "metadata": {
    "collapsed": true
   },
   "outputs": [],
   "source": [
    "corpus['topics'] = model[corpus.bow]"
   ]
  },
  {
   "cell_type": "code",
   "execution_count": 193,
   "metadata": {},
   "outputs": [
    {
     "data": {
      "text/html": [
       "<div>\n",
       "<style>\n",
       "    .dataframe thead tr:only-child th {\n",
       "        text-align: right;\n",
       "    }\n",
       "\n",
       "    .dataframe thead th {\n",
       "        text-align: left;\n",
       "    }\n",
       "\n",
       "    .dataframe tbody tr th {\n",
       "        vertical-align: top;\n",
       "    }\n",
       "</style>\n",
       "<table border=\"1\" class=\"dataframe\">\n",
       "  <thead>\n",
       "    <tr style=\"text-align: right;\">\n",
       "      <th></th>\n",
       "      <th>body</th>\n",
       "      <th>tokens</th>\n",
       "      <th>bow</th>\n",
       "      <th>topics</th>\n",
       "      <th>color</th>\n",
       "      <th>percent</th>\n",
       "    </tr>\n",
       "    <tr>\n",
       "      <th>id</th>\n",
       "      <th></th>\n",
       "      <th></th>\n",
       "      <th></th>\n",
       "      <th></th>\n",
       "      <th></th>\n",
       "      <th></th>\n",
       "    </tr>\n",
       "  </thead>\n",
       "  <tbody>\n",
       "    <tr>\n",
       "      <th>cxkqnwq</th>\n",
       "      <td>Where the shooting is:\\n\\n&gt;*Inland Regional Ce...</td>\n",
       "      <td>[where, shooting, inland, regional, center, em...</td>\n",
       "      <td>[(0, 1), (1, 1), (2, 1), (3, 1), (4, 1), (5, 1...</td>\n",
       "      <td>[(4, 0.930759467837)]</td>\n",
       "      <td>4.0</td>\n",
       "      <td>0.930759</td>\n",
       "    </tr>\n",
       "    <tr>\n",
       "      <th>cxkup1s</th>\n",
       "      <td>What amazes me about situations like this, is ...</td>\n",
       "      <td>[what, situations, like, many, people, call, t...</td>\n",
       "      <td>[(12, 1), (13, 1), (14, 1), (15, 1), (16, 2), ...</td>\n",
       "      <td>[(0, 0.244569171425), (1, 0.723422975794)]</td>\n",
       "      <td>1.0</td>\n",
       "      <td>0.723423</td>\n",
       "    </tr>\n",
       "    <tr>\n",
       "      <th>cxkwqik</th>\n",
       "      <td>\"Suspicious male in dark clothing under freewa...</td>\n",
       "      <td>[suspicious, male, dark, clothing, freeway, so...</td>\n",
       "      <td>[(14, 1), (34, 1), (35, 1), (36, 1), (37, 1), ...</td>\n",
       "      <td>[(1, 0.918172064209)]</td>\n",
       "      <td>1.0</td>\n",
       "      <td>0.918172</td>\n",
       "    </tr>\n",
       "    <tr>\n",
       "      <th>cxkt934</th>\n",
       "      <td>I have an autistic son and we visit this medic...</td>\n",
       "      <td>[autistic, son, visit, medical, center, it's, ...</td>\n",
       "      <td>[(4, 1), (8, 1), (9, 1), (42, 1), (43, 1), (44...</td>\n",
       "      <td>[(6, 0.93075880166)]</td>\n",
       "      <td>6.0</td>\n",
       "      <td>0.930759</td>\n",
       "    </tr>\n",
       "    <tr>\n",
       "      <th>cxkrqxu</th>\n",
       "      <td>Department of Homeland Security aircraft circl...</td>\n",
       "      <td>[department, security, aircraft, circling, sce...</td>\n",
       "      <td>[(51, 1), (52, 1), (53, 2), (54, 2), (55, 1), ...</td>\n",
       "      <td>[(7, 0.939994821004)]</td>\n",
       "      <td>7.0</td>\n",
       "      <td>0.939995</td>\n",
       "    </tr>\n",
       "  </tbody>\n",
       "</table>\n",
       "</div>"
      ],
      "text/plain": [
       "                                                      body  \\\n",
       "id                                                           \n",
       "cxkqnwq  Where the shooting is:\\n\\n>*Inland Regional Ce...   \n",
       "cxkup1s  What amazes me about situations like this, is ...   \n",
       "cxkwqik  \"Suspicious male in dark clothing under freewa...   \n",
       "cxkt934  I have an autistic son and we visit this medic...   \n",
       "cxkrqxu  Department of Homeland Security aircraft circl...   \n",
       "\n",
       "                                                    tokens  \\\n",
       "id                                                           \n",
       "cxkqnwq  [where, shooting, inland, regional, center, em...   \n",
       "cxkup1s  [what, situations, like, many, people, call, t...   \n",
       "cxkwqik  [suspicious, male, dark, clothing, freeway, so...   \n",
       "cxkt934  [autistic, son, visit, medical, center, it's, ...   \n",
       "cxkrqxu  [department, security, aircraft, circling, sce...   \n",
       "\n",
       "                                                       bow  \\\n",
       "id                                                           \n",
       "cxkqnwq  [(0, 1), (1, 1), (2, 1), (3, 1), (4, 1), (5, 1...   \n",
       "cxkup1s  [(12, 1), (13, 1), (14, 1), (15, 1), (16, 2), ...   \n",
       "cxkwqik  [(14, 1), (34, 1), (35, 1), (36, 1), (37, 1), ...   \n",
       "cxkt934  [(4, 1), (8, 1), (9, 1), (42, 1), (43, 1), (44...   \n",
       "cxkrqxu  [(51, 1), (52, 1), (53, 2), (54, 2), (55, 1), ...   \n",
       "\n",
       "                                             topics  color   percent  \n",
       "id                                                                    \n",
       "cxkqnwq                       [(4, 0.930759467837)]    4.0  0.930759  \n",
       "cxkup1s  [(0, 0.244569171425), (1, 0.723422975794)]    1.0  0.723423  \n",
       "cxkwqik                       [(1, 0.918172064209)]    1.0  0.918172  \n",
       "cxkt934                        [(6, 0.93075880166)]    6.0  0.930759  \n",
       "cxkrqxu                       [(7, 0.939994821004)]    7.0  0.939995  "
      ]
     },
     "execution_count": 193,
     "metadata": {},
     "output_type": "execute_result"
    }
   ],
   "source": [
    "def get_color(topics):\n",
    "    #TODO: choose best\n",
    "    c, p = max(topics,key=lambda t: t[1])\n",
    "    return int(c), p\n",
    "\n",
    "\n",
    "# df = pd.DataFrame.from_records(corpus.topics.map(get_color))\n",
    "# df.pivot(index=0,columns=1,values=2)\n",
    "corpus[[\"color\", \"percent\"]] = corpus.topics.map(get_color).apply(pd.Series)\n",
    "corpus = corpus.set_index(\"id\")\n",
    "corpus.head()"
   ]
  },
  {
   "cell_type": "markdown",
   "metadata": {},
   "source": [
    "## Export"
   ]
  },
  {
   "cell_type": "code",
   "execution_count": 206,
   "metadata": {
    "collapsed": true,
    "scrolled": true
   },
   "outputs": [],
   "source": [
    "def traverse(children, visit):\n",
    "    for child in children:\n",
    "        visit(child)\n",
    "        if \"children\" in child:\n",
    "            traverse(child[\"children\"],visit)\n",
    "def set_topic_info(child):\n",
    "    child[\"color\"] = int(corpus.loc[child[\"id\"]].color)\n",
    "    child[\"percent\"] = corpus.loc[child[\"id\"]].percent\n",
    "traverse(comment_data,set_topic_info)\n"
   ]
  },
  {
   "cell_type": "code",
   "execution_count": 207,
   "metadata": {
    "collapsed": true
   },
   "outputs": [],
   "source": [
    "\n",
    "submission_data = {\n",
    "                    'id': submission.fullname,\n",
    "                    'title': submission.title,\n",
    "                    'created_utc': submission.created_utc,\n",
    "                    'author_name' : submission.author.name,\n",
    "                    'children': [],\n",
    "                    'parent_id': \"\"\n",
    "                  }\n",
    "submission_data['children'] = comment_data\n",
    "json.dump(submission_data, open('data/test_submission.json', mode='w'), indent=True)"
   ]
  },
  {
   "cell_type": "markdown",
   "metadata": {},
   "source": [
    "Fazit: Eher nicht. Zu wenig Text. Themen als Farbe waren nicht hilfreich in der Visualisierung."
   ]
  },
  {
   "cell_type": "markdown",
   "metadata": {},
   "source": [
    "## BigQueryJSON Datensatz?"
   ]
  },
  {
   "cell_type": "code",
   "execution_count": 23,
   "metadata": {
    "collapsed": true
   },
   "outputs": [],
   "source": [
    "from path import Path\n",
    "def fullname(jsonobj):\n",
    "    jsonobj[\"id\"] = \"t1_\" + jsonobj[\"id\"]\n",
    "    return jsonobj\n",
    "for file in [\"data/results-20170502-230026.json\"]:\n",
    "    with open(file) as bfile:\n",
    "        data = [fullname(json.loads(line)) for line in bfile.readlines()]\n",
    "    with open(\"data/data.json\", mode='w') as jfile:\n",
    "        data.append(submission_data)\n",
    "        json.dump(data, jfile)"
   ]
  },
  {
   "cell_type": "code",
   "execution_count": 30,
   "metadata": {
    "collapsed": true
   },
   "outputs": [],
   "source": [
    "parents = set([c['parent_id'] for c in data])\n"
   ]
  },
  {
   "cell_type": "code",
   "execution_count": 31,
   "metadata": {},
   "outputs": [
    {
     "data": {
      "text/plain": [
       "2001"
      ]
     },
     "execution_count": 31,
     "metadata": {},
     "output_type": "execute_result"
    }
   ],
   "source": [
    "len([c for c in data if c['parent_id'] in parents])"
   ]
  },
  {
   "cell_type": "code",
   "execution_count": 33,
   "metadata": {},
   "outputs": [
    {
     "data": {
      "text/plain": [
       "[{'created_utc': '1449084244',\n",
       "  'id': 't1_cxkpih0',\n",
       "  'parent_id': 't3_3v6iq7',\n",
       "  'score': '6'},\n",
       " {'created_utc': '1449084454',\n",
       "  'id': 't1_cxkpo3w',\n",
       "  'parent_id': 't3_3v6iq7',\n",
       "  'score': '-34'},\n",
       " {'created_utc': '1449084459',\n",
       "  'id': 't1_cxkpo9n',\n",
       "  'parent_id': 't3_3v6iq7',\n",
       "  'score': '3'},\n",
       " {'created_utc': '1449084528',\n",
       "  'id': 't1_cxkpq2r',\n",
       "  'parent_id': 't3_3v6iq7',\n",
       "  'score': '-2'},\n",
       " {'created_utc': '1449084608',\n",
       "  'id': 't1_cxkps5t',\n",
       "  'parent_id': 't1_cxkpo3w',\n",
       "  'score': '-6'}]"
      ]
     },
     "execution_count": 33,
     "metadata": {},
     "output_type": "execute_result"
    }
   ],
   "source": [
    "data[:5]"
   ]
  },
  {
   "cell_type": "code",
   "execution_count": 34,
   "metadata": {
    "collapsed": true
   },
   "outputs": [],
   "source": [
    "import pandas as pd"
   ]
  },
  {
   "cell_type": "code",
   "execution_count": 35,
   "metadata": {},
   "outputs": [
    {
     "data": {
      "text/html": [
       "<div>\n",
       "<table border=\"1\" class=\"dataframe\">\n",
       "  <thead>\n",
       "    <tr style=\"text-align: right;\">\n",
       "      <th></th>\n",
       "      <th>id</th>\n",
       "      <th>by</th>\n",
       "      <th>author</th>\n",
       "      <th>time</th>\n",
       "      <th>time_ts</th>\n",
       "      <th>text</th>\n",
       "      <th>parent</th>\n",
       "      <th>deleted</th>\n",
       "      <th>dead</th>\n",
       "      <th>ranking</th>\n",
       "    </tr>\n",
       "  </thead>\n",
       "  <tbody>\n",
       "    <tr>\n",
       "      <th>0</th>\n",
       "      <td>15</td>\n",
       "      <td>sama</td>\n",
       "      <td>sama</td>\n",
       "      <td>1160423461</td>\n",
       "      <td>1.160423e+09</td>\n",
       "      <td>&amp;#34;the rising star of venture capital&amp;#34; -...</td>\n",
       "      <td>1</td>\n",
       "      <td>NaN</td>\n",
       "      <td>NaN</td>\n",
       "      <td>1</td>\n",
       "    </tr>\n",
       "    <tr>\n",
       "      <th>1</th>\n",
       "      <td>82729</td>\n",
       "      <td>vice</td>\n",
       "      <td>vice</td>\n",
       "      <td>1195735854</td>\n",
       "      <td>1.195736e+09</td>\n",
       "      <td>I'm nX 1 too&lt;p&gt;;)\\n</td>\n",
       "      <td>1</td>\n",
       "      <td>NaN</td>\n",
       "      <td>True</td>\n",
       "      <td>4</td>\n",
       "    </tr>\n",
       "    <tr>\n",
       "      <th>2</th>\n",
       "      <td>487171</td>\n",
       "      <td>jacquesm</td>\n",
       "      <td>jacquesm</td>\n",
       "      <td>1235046083</td>\n",
       "      <td>1.235046e+09</td>\n",
       "      <td>So, just to see how hard it is to make the lon...</td>\n",
       "      <td>1</td>\n",
       "      <td>NaN</td>\n",
       "      <td>NaN</td>\n",
       "      <td>0</td>\n",
       "    </tr>\n",
       "    <tr>\n",
       "      <th>3</th>\n",
       "      <td>234509</td>\n",
       "      <td>kleevr</td>\n",
       "      <td>kleevr</td>\n",
       "      <td>1215030588</td>\n",
       "      <td>1.215031e+09</td>\n",
       "      <td>sequential numbering\\n  I must be bored</td>\n",
       "      <td>1</td>\n",
       "      <td>NaN</td>\n",
       "      <td>NaN</td>\n",
       "      <td>2</td>\n",
       "    </tr>\n",
       "    <tr>\n",
       "      <th>4</th>\n",
       "      <td>454410</td>\n",
       "      <td>Arrington</td>\n",
       "      <td>Arrington</td>\n",
       "      <td>1233174694</td>\n",
       "      <td>1.233175e+09</td>\n",
       "      <td>This is why we can't have nice things.</td>\n",
       "      <td>1</td>\n",
       "      <td>NaN</td>\n",
       "      <td>True</td>\n",
       "      <td>3</td>\n",
       "    </tr>\n",
       "  </tbody>\n",
       "</table>\n",
       "</div>"
      ],
      "text/plain": [
       "       id         by     author        time       time_ts  \\\n",
       "0      15       sama       sama  1160423461  1.160423e+09   \n",
       "1   82729       vice       vice  1195735854  1.195736e+09   \n",
       "2  487171   jacquesm   jacquesm  1235046083  1.235046e+09   \n",
       "3  234509     kleevr     kleevr  1215030588  1.215031e+09   \n",
       "4  454410  Arrington  Arrington  1233174694  1.233175e+09   \n",
       "\n",
       "                                                text  parent deleted  dead  \\\n",
       "0  &#34;the rising star of venture capital&#34; -...       1     NaN   NaN   \n",
       "1                                I'm nX 1 too<p>;)\\n       1     NaN  True   \n",
       "2  So, just to see how hard it is to make the lon...       1     NaN   NaN   \n",
       "3            sequential numbering\\n  I must be bored       1     NaN   NaN   \n",
       "4             This is why we can't have nice things.       1     NaN  True   \n",
       "\n",
       "   ranking  \n",
       "0        1  \n",
       "1        4  \n",
       "2        0  \n",
       "3        2  \n",
       "4        3  "
      ]
     },
     "execution_count": 35,
     "metadata": {},
     "output_type": "execute_result"
    }
   ],
   "source": [
    "hndata = pd.read_csv(\"data/hn-results-20170503-113146.csv\", encoding=\"utf8\")\n",
    "hndata.head()"
   ]
  },
  {
   "cell_type": "markdown",
   "metadata": {
    "collapsed": true,
    "inputHidden": false,
    "outputHidden": false
   },
   "source": [
    "Fazit: Offline Datensatz ist leichter zu bearbeiten."
   ]
  }
 ],
 "metadata": {
  "kernel_info": {
   "name": "ml-software"
  },
  "kernelspec": {
   "display_name": "Python 3",
   "language": "python",
   "name": "python3"
  },
  "language_info": {
   "codemirror_mode": {
    "name": "ipython",
    "version": 3
   },
   "file_extension": ".py",
   "mimetype": "text/x-python",
   "name": "python",
   "nbconvert_exporter": "python",
   "pygments_lexer": "ipython3",
   "version": "3.6.2"
  }
 },
 "nbformat": 4,
 "nbformat_minor": 2
}
