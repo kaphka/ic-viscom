{
 "cells": [
  {
   "cell_type": "markdown",
   "metadata": {},
   "source": [
    "# Datenplots"
   ]
  },
  {
   "cell_type": "code",
   "execution_count": 271,
   "metadata": {
    "collapsed": true
   },
   "outputs": [],
   "source": [
    "%matplotlib inline\n",
    "import pandas as pd\n",
    "from pandas import Timestamp\n",
    "import seaborn as sns\n",
    "import matplotlib.pyplot as plt\n",
    "import numpy as np\n",
    "import matplotlib.patches as patches\n",
    "import re\n",
    "import dask.bag as db\n",
    "import json\n",
    "import scipy.optimize"
   ]
  },
  {
   "cell_type": "markdown",
   "metadata": {},
   "source": [
    "## Häufigkeit von größen Threads"
   ]
  },
  {
   "cell_type": "code",
   "execution_count": 279,
   "metadata": {},
   "outputs": [
    {
     "data": {
      "text/html": [
       "<div>\n",
       "<style>\n",
       "    .dataframe thead tr:only-child th {\n",
       "        text-align: right;\n",
       "    }\n",
       "\n",
       "    .dataframe thead th {\n",
       "        text-align: left;\n",
       "    }\n",
       "\n",
       "    .dataframe tbody tr th {\n",
       "        vertical-align: top;\n",
       "    }\n",
       "</style>\n",
       "<table border=\"1\" class=\"dataframe\">\n",
       "  <thead>\n",
       "    <tr style=\"text-align: right;\">\n",
       "      <th></th>\n",
       "      <th>id</th>\n",
       "      <th>count</th>\n",
       "    </tr>\n",
       "  </thead>\n",
       "  <tbody>\n",
       "    <tr>\n",
       "      <th>0</th>\n",
       "      <td>t3_4090vf</td>\n",
       "      <td>43539</td>\n",
       "    </tr>\n",
       "    <tr>\n",
       "      <th>1</th>\n",
       "      <td>t3_415q8j</td>\n",
       "      <td>38011</td>\n",
       "    </tr>\n",
       "    <tr>\n",
       "      <th>2</th>\n",
       "      <td>t3_42inji</td>\n",
       "      <td>32779</td>\n",
       "    </tr>\n",
       "    <tr>\n",
       "      <th>3</th>\n",
       "      <td>t3_41aepa</td>\n",
       "      <td>30738</td>\n",
       "    </tr>\n",
       "    <tr>\n",
       "      <th>4</th>\n",
       "      <td>t3_3zx829</td>\n",
       "      <td>30513</td>\n",
       "    </tr>\n",
       "  </tbody>\n",
       "</table>\n",
       "</div>"
      ],
      "text/plain": [
       "          id  count\n",
       "0  t3_4090vf  43539\n",
       "1  t3_415q8j  38011\n",
       "2  t3_42inji  32779\n",
       "3  t3_41aepa  30738\n",
       "4  t3_3zx829  30513"
      ]
     },
     "execution_count": 279,
     "metadata": {},
     "output_type": "execute_result"
    }
   ],
   "source": [
    "df = pd.read_csv('../../data/biggest_threads_2017_1.csv',header=None).rename(columns={0: 'id', 1: 'count'})\n",
    "df.head()"
   ]
  },
  {
   "cell_type": "code",
   "execution_count": 295,
   "metadata": {},
   "outputs": [
    {
     "data": {
      "image/png": "[encoded data removed]",
      "text/plain": [
       "<matplotlib.figure.Figure at 0x7f6f75c439e8>"
      ]
     },
     "metadata": {},
     "output_type": "display_data"
    }
   ],
   "source": [
    "plt.hist(df['count'],normed=True,log=True,bins=20,rwidth=0.8)\n",
    "# plt.plot(df['count'][0:100],'.')\n",
    "# plt.title('Einreichungen, sortiert nach Kommentarmenge im Januar 2016')\n",
    "plt.xlabel('Anzahl an Kommentaren')\n",
    "plt.ylabel('Häufigkeit')\n",
    "plt.title(\"\")\n",
    "fig = plt.gcf()\n",
    "fig.set_size_inches(3,4)\n",
    "plt.tight_layout()\n",
    "fig.savefig('../../doc/figures/biggest_threads_2017_1.pdf')\n"
   ]
  },
  {
   "cell_type": "code",
   "execution_count": null,
   "metadata": {},
   "outputs": [],
   "source": [
    "# TODO: Modelierung der Verteilung\n",
    "sum(df['count'][0:int(len(df)*0.2)]) / sum(df['count'])\n",
    "# pareto(df['count'][2], 1.2, min(df['count']))\n",
    "def pareto(x,k, xmin):\n",
    "    return k * xmin ** k / (x ** (k+1))\n",
    "# scipy.optimize()"
   ]
  },
  {
   "cell_type": "markdown",
   "metadata": {},
   "source": [
    "## Verteilung der Upvotes auf Kommentare"
   ]
  },
  {
   "cell_type": "code",
   "execution_count": 296,
   "metadata": {},
   "outputs": [
    {
     "data": {
      "text/html": [
       "<div>\n",
       "<style>\n",
       "    .dataframe thead tr:only-child th {\n",
       "        text-align: right;\n",
       "    }\n",
       "\n",
       "    .dataframe thead th {\n",
       "        text-align: left;\n",
       "    }\n",
       "\n",
       "    .dataframe tbody tr th {\n",
       "        vertical-align: top;\n",
       "    }\n",
       "</style>\n",
       "<table border=\"1\" class=\"dataframe\">\n",
       "  <thead>\n",
       "    <tr style=\"text-align: right;\">\n",
       "      <th></th>\n",
       "      <th>ups</th>\n",
       "      <th>n</th>\n",
       "    </tr>\n",
       "  </thead>\n",
       "  <tbody>\n",
       "    <tr>\n",
       "      <th>0</th>\n",
       "      <td>1</td>\n",
       "      <td>27986680</td>\n",
       "    </tr>\n",
       "    <tr>\n",
       "      <th>1</th>\n",
       "      <td>2</td>\n",
       "      <td>10456825</td>\n",
       "    </tr>\n",
       "    <tr>\n",
       "      <th>2</th>\n",
       "      <td>3</td>\n",
       "      <td>5137637</td>\n",
       "    </tr>\n",
       "    <tr>\n",
       "      <th>3</th>\n",
       "      <td>0</td>\n",
       "      <td>2528393</td>\n",
       "    </tr>\n",
       "    <tr>\n",
       "      <th>4</th>\n",
       "      <td>4</td>\n",
       "      <td>2153727</td>\n",
       "    </tr>\n",
       "  </tbody>\n",
       "</table>\n",
       "</div>"
      ],
      "text/plain": [
       "   ups         n\n",
       "0    1  27986680\n",
       "1    2  10456825\n",
       "2    3   5137637\n",
       "3    0   2528393\n",
       "4    4   2153727"
      ]
     },
     "execution_count": 296,
     "metadata": {},
     "output_type": "execute_result"
    }
   ],
   "source": [
    "ups = pd.read_csv('../../data/upvote_distribution2016_1.csv')\n",
    "ups.head()"
   ]
  },
  {
   "cell_type": "code",
   "execution_count": 297,
   "metadata": {},
   "outputs": [],
   "source": [
    "ups = ups.sort_values('ups')"
   ]
  },
  {
   "cell_type": "code",
   "execution_count": 298,
   "metadata": {},
   "outputs": [
    {
     "data": {
      "image/png": "[encoded data removed]",
      "text/plain": [
       "<matplotlib.figure.Figure at 0x7f6f74dd8828>"
      ]
     },
     "metadata": {},
     "output_type": "display_data"
    }
   ],
   "source": [
    "plt.semilogy(ups.ups,ups.n ,  '.', alpha=0.3)\n",
    "plt.xlim([-1500, 8000])\n",
    "plt.ylim([0,1000])\n",
    "plt.xlabel('Upvotes')\n",
    "plt.ylabel('Kommentarenzahl')\n",
    "fig = plt.gcf()\n",
    "fig.set_size_inches(8,3)\n",
    "plt.title('Verteilung der Upvotes auf Kommentare')\n",
    "fig = plt.gcf()\n",
    "ax = fig.add_subplot(111)\n",
    "# ax.annotate('Nur sehr wenige Kommentare\\nhaben viel Upvotes', xy=(10, 10), xytext=(4000, 10) )\n",
    "# ax.add_patch(\n",
    "#     patches.Rectangle(\n",
    "#         (0, 0),   # (x,y)\n",
    "#         80000,          # width\n",
    "#         10000,          # height\n",
    "#         alpha=1)\n",
    "# )\n",
    "plt.tight_layout()\n",
    "\n",
    "fig.savefig('../../doc/figures/upvote_distribution2016_1.pdf')"
   ]
  },
  {
   "cell_type": "code",
   "execution_count": 24,
   "metadata": {},
   "outputs": [
    {
     "data": {
      "text/plain": [
       "(array([ 2971.,  1422.,   666.,   308.,   139.,    68.,    30.,    14.,\n",
       "            6.,     3.]),\n",
       " array([  0.        ,   1.71472392,   3.42944785,   5.14417177,\n",
       "          6.8588957 ,   8.57361962,  10.28834354,  12.00306747,\n",
       "         13.71779139,  15.43251532,  17.14723924]),\n",
       " <a list of 10 Patch objects>)"
      ]
     },
     "execution_count": 24,
     "metadata": {},
     "output_type": "execute_result"
    },
    {
     "data": {
      "image/png": "[encoded data removed]",
      "text/plain": [
       "<matplotlib.figure.Figure at 0x7f6f75eaa470>"
      ]
     },
     "metadata": {},
     "output_type": "display_data"
    }
   ],
   "source": [
    "ups['bins'] = np.round(ups['ups'] / 400) * 400\n",
    "# bined = ups.groupby('bins').sum()\n",
    "\n",
    "# plt.bar(bined.index, bined['n'], log=True)\n",
    "# plt.xlim([-1500, 8000])\n",
    "# plt.ylim([0,800000])\n",
    "# fig = plt.gcf()\n",
    "# fig.set_size_inches(8,8)\n",
    "# bined\n",
    "plt.hist(np.log(ups.n),bins=10)"
   ]
  },
  {
   "cell_type": "markdown",
   "metadata": {},
   "source": [
    "## Größe des Datensatz"
   ]
  },
  {
   "cell_type": "code",
   "execution_count": 443,
   "metadata": {},
   "outputs": [
    {
     "name": "stderr",
     "output_type": "stream",
     "text": [
      "/home/jakob/miniconda3/envs/ml/lib/python3.6/site-packages/ipykernel_launcher.py:1: ParserWarning: Falling back to the 'python' engine because the 'c' engine does not support regex separators (separators > 1 char and different from '\\s+' are interpreted as regex); you can avoid this warning by specifying engine='python'.\n",
      "  \"\"\"Entry point for launching an IPython kernel.\n"
     ]
    }
   ],
   "source": [
    "counts = pd.read_csv('../../data/monthlyCount.tsv',sep='  ', header=None).rename(columns={0: 'date', 1: 'count'})\n",
    "counts.head()\n",
    "dates = counts.date.str.extract('(\\d+)-(\\d+)', expand=False).rename(columns={0: 'year', 1: 'month'})\n",
    "dates['day'] = 1\n",
    "counts = counts.set_index(pd.to_datetime(dates))\n",
    "counts['cumsum'] = np.cumsum(counts['count'])"
   ]
  },
  {
   "cell_type": "code",
   "execution_count": 445,
   "metadata": {},
   "outputs": [
    {
     "data": {
      "image/png": "[encoded data removed]",
      "text/plain": [
       "<matplotlib.figure.Figure at 0x7f6f7aa2df28>"
      ]
     },
     "metadata": {},
     "output_type": "display_data"
    }
   ],
   "source": [
    "\n",
    "plt.subplot(211)\n",
    "plt.title(\"Kommentare pro Monat\")\n",
    "plt.ylabel('Kommentaren in Milionen')\n",
    "plt.plot_date(counts.index, counts['count'] / 10**6,'.',alpha=0.8)\n",
    "plt.subplot(212)\n",
    "plt.plot_date(counts.index, counts['cumsum'] / 10**6,'-',alpha=0.8)\n",
    "plt.xlabel('Jahr')\n",
    "\n",
    "plt.title(\"Kommentare im Datenset (insgesamt)\")\n",
    "fig = plt.gcf()\n",
    "fig.set_size_inches(6,6)\n",
    "\n",
    "fig = plt.gcf()\n",
    "plt.tight_layout()\n",
    "fig.savefig('../../doc/figures/monthlyCount.pdf')"
   ]
  },
  {
   "cell_type": "code",
   "execution_count": 198,
   "metadata": {},
   "outputs": [
    {
     "data": {
      "text/plain": [
       "799897840"
      ]
     },
     "execution_count": 198,
     "metadata": {},
     "output_type": "execute_result"
    }
   ],
   "source": [
    "sum(counts['2016/1':'2016/12']['count'])"
   ]
  },
  {
   "cell_type": "code",
   "execution_count": 218,
   "metadata": {},
   "outputs": [
    {
     "data": {
      "text/plain": [
       "737906108"
      ]
     },
     "execution_count": 218,
     "metadata": {},
     "output_type": "execute_result"
    }
   ],
   "source": [
    "int(counts['2016/12']['cumsum'] ) - int(  counts['2016/1']['cumsum'])"
   ]
  },
  {
   "cell_type": "code",
   "execution_count": 208,
   "metadata": {},
   "outputs": [
    {
     "data": {
      "text/plain": [
       "2016-01-01    61991732\n",
       "Name: count, dtype: int64"
      ]
     },
     "execution_count": 208,
     "metadata": {},
     "output_type": "execute_result"
    }
   ],
   "source": [
    "counts['2016/1']['count']"
   ]
  },
  {
   "cell_type": "code",
   "execution_count": 215,
   "metadata": {},
   "outputs": [],
   "source": [
    "counts['cumsum'] = np.cumsum(counts['count'])"
   ]
  },
  {
   "cell_type": "code",
   "execution_count": 213,
   "metadata": {},
   "outputs": [
    {
     "data": {
      "text/plain": [
       "141"
      ]
     },
     "execution_count": 213,
     "metadata": {},
     "output_type": "execute_result"
    }
   ],
   "source": [
    "len(np.cumsum(counts['count']))"
   ]
  },
  {
   "cell_type": "code",
   "execution_count": 214,
   "metadata": {},
   "outputs": [
    {
     "data": {
      "text/plain": [
       "141"
      ]
     },
     "execution_count": 214,
     "metadata": {},
     "output_type": "execute_result"
    }
   ],
   "source": [
    "len(counts)"
   ]
  },
  {
   "cell_type": "markdown",
   "metadata": {},
   "source": [
    "## Beispiel-JSON"
   ]
  },
  {
   "cell_type": "code",
   "execution_count": 262,
   "metadata": {},
   "outputs": [
    {
     "data": {
      "text/plain": [
       "{'author': 'RoboChrist',\n",
       " 'author_flair_css_class': None,\n",
       " 'author_flair_text': None,\n",
       " 'body': 'There\\'s \"s ...',\n",
       " 'controversiality': 0,\n",
       " 'created_utc': 1452097977,\n",
       " 'distinguished': None,\n",
       " 'edited': False,\n",
       " 'gilded': 0,\n",
       " 'id': 'cyo5nvp',\n",
       " 'link_id': 't3_3zpp3w',\n",
       " 'parent_id': 't1_cyo4in3',\n",
       " 'retrieved_on': 1454317397,\n",
       " 'score': 158,\n",
       " 'stickied': False,\n",
       " 'subreddit': 'dataisbeautiful',\n",
       " 'subreddit_id': 't5_2tk95',\n",
       " 'ups': 158}"
      ]
     },
     "execution_count": 262,
     "metadata": {},
     "output_type": "execute_result"
    }
   ],
   "source": [
    "def short(d):\n",
    "    d['body'] = d['body'][:10] + ' ...'\n",
    "    return d\n",
    "# example = pd.DataFrame(list((db.read_text('../../data/example_set.csv').map(json.loads).map(lambda d: short(d)))))\n",
    "list((db.read_text('../../data/example_set.csv').map(json.loads).map(lambda d: short(d))))[2]\n",
    "\n"
   ]
  },
  {
   "cell_type": "markdown",
   "metadata": {},
   "source": [
    "## Kommentarlänge"
   ]
  },
  {
   "cell_type": "code",
   "execution_count": 400,
   "metadata": {},
   "outputs": [
    {
     "data": {
      "image/png": "[encoded data removed]",
      "text/plain": [
       "<matplotlib.figure.Figure at 0x7f6f7ae81978>"
      ]
     },
     "metadata": {},
     "output_type": "display_data"
    }
   ],
   "source": [
    "bl = pd.read_csv('../../data/comment_length_frequencies2017.csv')\n",
    "# Interpolate 9\n",
    "bl[9] = (bl['count'][8] + bl['count'][10]) / 2\n",
    "# bl.head()\n",
    "plot = plt.plot(bl['length'], bl['count'],'.')\n",
    "fig = plt.gcf()\n",
    "fig.set_size_inches(4.22, 2)\n",
    "plt.title('Anzahl der Zeichen in dem Kommentaren 2016')\n",
    "plt.xlabel('Länge des Kommentars in Zeichen')\n",
    "plt.ylim(0,6000000)\n",
    "plt.xlim(0,600)\n",
    "fig = plt.gcf()\n",
    "fig.set_size_inches(8,3)\n",
    "plt.tight_layout()\n",
    "plt.savefig('../../doc/figures/comment_length_frequencies2016.pdf')"
   ]
  },
  {
   "cell_type": "code",
   "execution_count": 409,
   "metadata": {},
   "outputs": [
    {
     "data": {
      "text/plain": [
       "{'boxes': [<matplotlib.lines.Line2D at 0x7f6f6f3e7438>],\n",
       " 'caps': [<matplotlib.lines.Line2D at 0x7f6f6f743eb8>,\n",
       "  <matplotlib.lines.Line2D at 0x7f6f6f764748>],\n",
       " 'fliers': [<matplotlib.lines.Line2D at 0x7f6f6f766390>],\n",
       " 'means': [],\n",
       " 'medians': [<matplotlib.lines.Line2D at 0x7f6f6f764940>],\n",
       " 'whiskers': [<matplotlib.lines.Line2D at 0x7f6f6f3e7dd8>,\n",
       "  <matplotlib.lines.Line2D at 0x7f6f6f3e7fd0>]}"
      ]
     },
     "execution_count": 409,
     "metadata": {},
     "output_type": "execute_result"
    },
    {
     "data": {
      "image/png": "[encoded data removed]",
      "text/plain": [
       "<matplotlib.figure.Figure at 0x7f6f6f430438>"
      ]
     },
     "metadata": {},
     "output_type": "display_data"
    }
   ],
   "source": [
    "plt.boxplot(bl['count'][:200])"
   ]
  },
  {
   "cell_type": "markdown",
   "metadata": {},
   "source": [
    "### Durschnittliche Zeichenzahl\n",
    "Der Durschnitt ist hier eigentlich nicht wirklich hilfreich,\n",
    "aufgrund der Verteilung der Zeichenzahl"
   ]
  },
  {
   "cell_type": "code",
   "execution_count": 388,
   "metadata": {},
   "outputs": [
    {
     "data": {
      "text/plain": [
       "177.42531565655935"
      ]
     },
     "execution_count": 388,
     "metadata": {},
     "output_type": "execute_result"
    }
   ],
   "source": [
    "(bl['count'] / (bl['count'].sum()) * bl['length']).sum()"
   ]
  },
  {
   "cell_type": "markdown",
   "metadata": {},
   "source": [
    "Zeichenzahl 10 bis 150 machen wie viel Prozent aus?"
   ]
  },
  {
   "cell_type": "code",
   "execution_count": 391,
   "metadata": {},
   "outputs": [
    {
     "data": {
      "text/plain": [
       "0.58385815243606609"
      ]
     },
     "execution_count": 391,
     "metadata": {},
     "output_type": "execute_result"
    }
   ],
   "source": [
    "bl['count'][10:150].sum() / bl['count'].sum()"
   ]
  },
  {
   "cell_type": "code",
   "execution_count": 399,
   "metadata": {},
   "outputs": [],
   "source": [
    "# Interpolate 9\n",
    "bl[9] = (bl['count'][8] + bl['count'][10]) / 2"
   ]
  },
  {
   "cell_type": "code",
   "execution_count": 404,
   "metadata": {},
   "outputs": [
    {
     "data": {
      "text/plain": [
       "[<matplotlib.lines.Line2D at 0x7f6f7aa52b38>]"
      ]
     },
     "execution_count": 404,
     "metadata": {},
     "output_type": "execute_result"
    },
    {
     "data": {
      "image/png": "[encoded data removed]",
      "text/plain": [
       "<matplotlib.figure.Figure at 0x7f6f7adf26d8>"
      ]
     },
     "metadata": {},
     "output_type": "display_data"
    }
   ],
   "source": [
    "plt.plot(bl['length'], bl['count'])"
   ]
  },
  {
   "cell_type": "markdown",
   "metadata": {},
   "source": [
    "## Abschätzung der benötigten Pixel"
   ]
  },
  {
   "cell_type": "code",
   "execution_count": 442,
   "metadata": {},
   "outputs": [
    {
     "data": {
      "text/plain": [
       "194700.0"
      ]
     },
     "execution_count": 442,
     "metadata": {},
     "output_type": "execute_result"
    }
   ],
   "source": [
    "avg = round((bl['count'] / (bl['count'].sum()) * bl['length']).sum())\n",
    "avg * 4000 /  80 * 22"
   ]
  }
 ],
 "metadata": {
  "kernelspec": {
   "display_name": "Python 3",
   "language": "python",
   "name": "python3"
  },
  "language_info": {
   "codemirror_mode": {
    "name": "ipython",
    "version": 3
   },
   "file_extension": ".py",
   "mimetype": "text/x-python",
   "name": "python",
   "nbconvert_exporter": "python",
   "pygments_lexer": "ipython3",
   "version": "3.6.2"
  }
 },
 "nbformat": 4,
 "nbformat_minor": 2
}
