{
 "cells": [
  {
   "cell_type": "markdown",
   "metadata": {},
   "source": [
    "## Beispiel-Thread"
   ]
  },
  {
   "cell_type": "code",
   "execution_count": 83,
   "metadata": {
    "collapsed": false
   },
   "outputs": [],
   "source": [
    "import praw\n",
    "secret = json.load(open('.secret.json'))\n",
    "reddit = praw.Reddit(client_id=secret[\"client_id\"], \n",
    "                     client_secret= secret[\"client_secret\"], \n",
    "                     user_agent='dataviz:v0.1 (by /u/nobody22)')"
   ]
  },
  {
   "cell_type": "code",
   "execution_count": 98,
   "metadata": {
    "collapsed": false
   },
   "outputs": [
    {
     "name": "stdout",
     "output_type": "stream",
     "text": [
      "Ask Anything Monday - Weekly Thread\n",
      "Is \"if __name__ == '__main__'\" actually needed?\n",
      "I offer my service as a Python tutor\n",
      "Efficient way to merge list of dicts with dicts that have identical values?\n",
      "Is OOP a significant and necessary aspect of Python?\n",
      "Match IDs and find corresponding values\n",
      "Creating an API using Python?\n",
      "First project - improvements?\n",
      "Flask, Forms (Help)\n",
      "Equivalent of getattr with object key?\n"
     ]
    }
   ],
   "source": [
    "for submission in reddit.subreddit('learnpython').hot(limit=10):\n",
    "    print(submission.title)"
   ]
  },
  {
   "cell_type": "markdown",
   "metadata": {},
   "source": [
    "<blockquote class=\"reddit-card\" data-card-created=\"1493683113\"><a href=\"https://www.reddit.com/r/news/comments/3v6iq7/authorities_respond_to_20_victim_shooting/?ref=share&ref_source=embed\">Authorities Respond to “20 Victim Shooting” Incident in San Bernardino: Fire Dept.</a> from <a href=\"http://www.reddit.com/r/news\">news</a></blockquote>\n",
    "<script async src=\"//embed.redditmedia.com/widgets/platform.js\" charset=\"UTF-8\"></script>"
   ]
  },
  {
   "cell_type": "markdown",
   "metadata": {},
   "source": [
    "## TODO: get all comments"
   ]
  },
  {
   "cell_type": "code",
   "execution_count": 78,
   "metadata": {
    "collapsed": false
   },
   "outputs": [],
   "source": [
    "#submission.comments.replace_more(limit=0)"
   ]
  },
  {
   "cell_type": "code",
   "execution_count": null,
   "metadata": {
    "collapsed": true
   },
   "outputs": [],
   "source": []
  },
  {
   "cell_type": "code",
   "execution_count": 105,
   "metadata": {
    "collapsed": false
   },
   "outputs": [],
   "source": [
    "top = submission.comments[0]"
   ]
  },
  {
   "cell_type": "code",
   "execution_count": 109,
   "metadata": {
    "collapsed": false
   },
   "outputs": [
    {
     "data": {
      "text/plain": [
       "<praw.models.comment_forest.CommentForest at 0x11015dd30>"
      ]
     },
     "execution_count": 109,
     "metadata": {},
     "output_type": "execute_result"
    }
   ],
   "source": [
    "submission.comments.replace_more"
   ]
  },
  {
   "cell_type": "code",
   "execution_count": 106,
   "metadata": {
    "collapsed": false
   },
   "outputs": [],
   "source": [
    "import collections\n",
    "import json"
   ]
  },
  {
   "cell_type": "code",
   "execution_count": 131,
   "metadata": {
    "collapsed": false
   },
   "outputs": [],
   "source": [
    "def get_comment_data(comment):\n",
    "    c = {}\n",
    "    c['id'] = comment.id\n",
    "    c['created_utc'] = comment.created_utc\n",
    "    if comment.author:\n",
    "        c['author_name'] = comment.author.name \n",
    "#     if comment.body:\n",
    "#         c['body'] = comment.body  \n",
    "    if comment.score:\n",
    "        c['score'] = comment.score\n",
    "    comment.replies.replace_more(limit=0)\n",
    "    if comment.replies:\n",
    "        c['children'] = [get_comment_data(r) for r in comment.replies]\n",
    "    return c"
   ]
  },
  {
   "cell_type": "code",
   "execution_count": 143,
   "metadata": {
    "collapsed": true
   },
   "outputs": [],
   "source": [
    "submission = reddit.submission(url='https://www.reddit.com/r/news/comments/3v6iq7/authorities_respond_to_20_victim_shooting/')"
   ]
  },
  {
   "cell_type": "code",
   "execution_count": 196,
   "metadata": {
    "collapsed": false
   },
   "outputs": [
    {
     "data": {
      "text/plain": [
       "'t3_3v6iq7'"
      ]
     },
     "execution_count": 196,
     "metadata": {},
     "output_type": "execute_result"
    }
   ],
   "source": [
    "from datetime import datetime\n",
    "\n",
    "str(datetime.fromtimestamp(submission.created_utc))\n",
    "submission.fullname"
   ]
  },
  {
   "cell_type": "code",
   "execution_count": 171,
   "metadata": {
    "collapsed": false
   },
   "outputs": [
    {
     "name": "stdout",
     "output_type": "stream",
     "text": [
      "t3_3v6iq7\n",
      "t3_3v6iq7\n"
     ]
    }
   ],
   "source": [
    "print(top.link_id)\n",
    "print(top.replies[0].link_id)"
   ]
  },
  {
   "cell_type": "code",
   "execution_count": 144,
   "metadata": {
    "collapsed": true
   },
   "outputs": [],
   "source": [
    "not_replaced = submission.comments.replace_more(limit=0)"
   ]
  },
  {
   "cell_type": "code",
   "execution_count": 142,
   "metadata": {
    "collapsed": false
   },
   "outputs": [],
   "source": [
    "comment_data = [get_comment_data(root_comment) for root_comment in submission.comments]"
   ]
  },
  {
   "cell_type": "code",
   "execution_count": 150,
   "metadata": {
    "collapsed": false
   },
   "outputs": [
    {
     "data": {
      "text/plain": [
       "[Comment(id='cxl57n3'),\n",
       " <MoreComments count=9, children=['cxl5bxo', 'cxl5atu', 'cxl58ej', '...']>,\n",
       " Comment(id='cxlgax8'),\n",
       " <MoreComments count=19, children=['cxlghdk', 'cxlgdr7']>,\n",
       " Comment(id='cxlbpun'),\n",
       " <MoreComments count=17, children=['cxlbxsz', 'cxlbvae', 'cxlbstp', '...']>,\n",
       " Comment(id='cxks4zf'),\n",
       " <MoreComments count=1, children=['cxks6xw']>,\n",
       " Comment(id='cxkwqka'),\n",
       " <MoreComments count=2, children=['cxkwzyb']>,\n",
       " Comment(id='cxkzw4j'),\n",
       " <MoreComments count=6, children=['cxkzyw1', 'cxl028b', 'cxkzygb', '...']>,\n",
       " Comment(id='cxl27yw'),\n",
       " Comment(id='cxl295y'),\n",
       " <MoreComments count=1, children=['cxl2bhv']>,\n",
       " Comment(id='cxl2a3d'),\n",
       " <MoreComments count=1, children=['cxl290d']>,\n",
       " Comment(id='cxl32f3'),\n",
       " <MoreComments count=2, children=['cxl5zj4', 'cxl3jod']>,\n",
       " Comment(id='cxl47n4'),\n",
       " <MoreComments count=14, children=['cxl4ctd', 'cxl7h9i', 'cxl4a0h', '...']>,\n",
       " Comment(id='cxlzcg9'),\n",
       " <MoreComments count=8, children=['cxm7rtm', 'cxlzv9x']>,\n",
       " Comment(id='cxkuonf'),\n",
       " <MoreComments count=3, children=['cxkyxao', 'cxkusay', 'cxkur1p']>,\n",
       " Comment(id='cxkt309'),\n",
       " Comment(id='cxktf2c'),\n",
       " <MoreComments count=1, children=['cxl3ajv']>,\n",
       " <MoreComments count=11, children=['cxkt4uh', 'cxkum2q', 'cxkt3n6', '...']>,\n",
       " Comment(id='cxkr448'),\n",
       " Comment(id='cxkrvm0'),\n",
       " <MoreComments count=18, children=['cxkt77k', 'cxl0uo3', 'cxktvu0', '...']>,\n",
       " Comment(id='cxl8prs'),\n",
       " Comment(id='cxl8r8l'),\n",
       " <MoreComments count=1, children=['cxl980g']>,\n",
       " Comment(id='cxkvtua'),\n",
       " Comment(id='cxkw2xk'),\n",
       " <MoreComments count=1, children=['cxkxih3']>,\n",
       " Comment(id='cxkvwsv'),\n",
       " Comment(id='cxkvwbz'),\n",
       " <MoreComments count=21, children=['cxkwahs', 'cxkvznl', 'cxkvxtu', '...']>,\n",
       " Comment(id='cxktyjz'),\n",
       " Comment(id='cxktzsr'),\n",
       " <MoreComments count=4, children=['cxkv37e', 'cxkvgnj', 'cxkuc5b']>,\n",
       " <MoreComments count=7, children=['cxkytgg', 'cxkzs40', 'cxku3id', '...']>,\n",
       " Comment(id='cxkuo1k'),\n",
       " Comment(id='cxkupdg'),\n",
       " <MoreComments count=4, children=['cxkvtl4', 'cxkw42p', 'cxkwsl2', 'cxkvmp3']>,\n",
       " <MoreComments count=10, children=['cxkup9e', 'cxkupqm', 'cxkuoup', '...']>,\n",
       " Comment(id='cxl1mny'),\n",
       " <MoreComments count=6, children=['cxl1pc1', 'cxl1xyb', 'cxl1piu', '...']>,\n",
       " Comment(id='cxl4o1m'),\n",
       " <MoreComments count=7, children=['cxl4q1s', 'cxl4t9h', 'cxl4qna', '...']>,\n",
       " Comment(id='cxlb8y9'),\n",
       " <MoreComments count=4, children=['cxlbl97', 'cxlba7o', 'cxlblse']>,\n",
       " Comment(id='cxld0ln'),\n",
       " <MoreComments count=3, children=['cxld5so', 'cxldcqp']>,\n",
       " Comment(id='cxlg2af'),\n",
       " Comment(id='cxktn1t'),\n",
       " Comment(id='cxkwj3f'),\n",
       " <MoreComments count=1, children=['cxkwprs']>,\n",
       " Comment(id='cxkypfb'),\n",
       " <MoreComments count=7, children=['cxkyz2x', 'cxkyr62', 'cxkyxbw']>,\n",
       " Comment(id='cxkyrx6'),\n",
       " <MoreComments count=2, children=['cxkyva3']>,\n",
       " Comment(id='cxkzoo0'),\n",
       " <MoreComments count=3, children=['cxkzqmq', 'cxkztar', 'cxkzqy4']>,\n",
       " Comment(id='cxkzv4i'),\n",
       " <MoreComments count=2, children=['cxkzxu3']>,\n",
       " Comment(id='cxl0qtc'),\n",
       " Comment(id='cxl29p7'),\n",
       " <MoreComments count=5, children=['cxl2a8h', 'cxl2by9']>,\n",
       " Comment(id='cxl3n54'),\n",
       " Comment(id='cxl3x4a'),\n",
       " <MoreComments count=1, children=['cxl40wk']>,\n",
       " Comment(id='cxl4np6'),\n",
       " Comment(id='cxl5h84'),\n",
       " Comment(id='cxl7mr5'),\n",
       " <MoreComments count=4, children=['cxl7plo', 'cxl7pbl', 'cxl7ph8', 'cxl7ssp']>,\n",
       " Comment(id='cxl9038'),\n",
       " Comment(id='cxlbvik'),\n",
       " <MoreComments count=1, children=['cxlc2fg']>,\n",
       " Comment(id='cxlc5cn'),\n",
       " <MoreComments count=5, children=['cxlcavh', 'cxlc7ri']>,\n",
       " Comment(id='cxlc6pu'),\n",
       " <MoreComments count=6, children=['cxlc802', 'cxlcd3i', 'cxlcaam']>,\n",
       " Comment(id='cxlcbn6'),\n",
       " Comment(id='cxlccmg'),\n",
       " <MoreComments count=2, children=['cxlcdxv', 'cxlcf77']>,\n",
       " <MoreComments count=1, children=['cxlcfjp']>,\n",
       " Comment(id='cxlcbud'),\n",
       " Comment(id='cxle6fn'),\n",
       " <MoreComments count=5, children=['cxle8wo', 'cxle82r', 'cxle7dx', 'cxle86z']>,\n",
       " Comment(id='cxlebe5'),\n",
       " <MoreComments count=1, children=['cxlefb9']>,\n",
       " Comment(id='cxlei3y'),\n",
       " <MoreComments count=1, children=['cxlewq7']>,\n",
       " Comment(id='cxleirq'),\n",
       " <MoreComments count=1, children=['cxleki1']>,\n",
       " Comment(id='cxlejbf'),\n",
       " Comment(id='cxleqy3'),\n",
       " <MoreComments count=23, children=['cxletfh', 'cxletcn']>,\n",
       " Comment(id='cxlfk0r'),\n",
       " <MoreComments count=17, children=['cxlflvl', 'cxlfkir', 'cxlfmk1']>,\n",
       " Comment(id='cxlvbzg'),\n",
       " <MoreComments count=3, children=['cxlvhm9', 'cxlvk71', 'cxlwju7']>,\n",
       " Comment(id='cxlw49p'),\n",
       " Comment(id='cxld4aw'),\n",
       " <MoreComments count=3, children=['cxldanf', 'cxldcyz']>,\n",
       " Comment(id='cxkr0x2'),\n",
       " Comment(id='cxkrax4'),\n",
       " Comment(id='cxks0pv'),\n",
       " Comment(id='cxku8bp'),\n",
       " <MoreComments count=1, children=['cxkxmhj']>,\n",
       " <MoreComments count=11, children=['cxky807', 'cxktxyn', 'cxkuc4z', '...']>,\n",
       " <MoreComments count=209, children=['cxkught', 'cxksbyb', 'cxkumie', '...']>,\n",
       " Comment(id='cxktqh1'),\n",
       " <MoreComments count=7, children=['cxku0sd', 'cxkuwdi']>,\n",
       " Comment(id='cxkulbt'),\n",
       " Comment(id='cxkvywd'),\n",
       " <MoreComments count=16, children=['cxkw82r', 'cxkw6mc', 'cxkwcit', '...']>,\n",
       " Comment(id='cxkwswy'),\n",
       " <MoreComments count=10, children=['cxkwwao', 'cxkx3r9', 'cxkyggj', '...']>,\n",
       " Comment(id='cxl4s2j'),\n",
       " <MoreComments count=3, children=['cxl4tdt', 'cxl4tpm', 'cxl4vl6']>,\n",
       " Comment(id='cxl5znh'),\n",
       " <MoreComments count=1, children=['cxl6pdg']>,\n",
       " Comment(id='cxlcbl1'),\n",
       " Comment(id='cxlcc2z'),\n",
       " <MoreComments count=16, children=['cxlcctx', 'cxlcf8n', 'cxlcf11', '...']>,\n",
       " Comment(id='cxkty2z'),\n",
       " <MoreComments count=5, children=['cxkvcnl', 'cxkuasa', 'cxktzok', 'cxku3d2']>,\n",
       " Comment(id='cxl208a'),\n",
       " <MoreComments count=5, children=['cxl215k']>,\n",
       " Comment(id='cxl37o4'),\n",
       " <MoreComments count=5, children=['cxl3922', 'cxl391f', 'cxl3azn', '...']>,\n",
       " Comment(id='cxl5szj'),\n",
       " <MoreComments count=3, children=['cxl5uag', 'cxl5x8d', 'cxl5wxz']>,\n",
       " Comment(id='cxl8qpe'),\n",
       " Comment(id='cxl8w4u'),\n",
       " <MoreComments count=1, children=['cxl8zqv']>,\n",
       " Comment(id='cxl455r'),\n",
       " Comment(id='cxl46ef'),\n",
       " Comment(id='cxl46uj'),\n",
       " <MoreComments count=3, children=['cxl4a55', 'cxl48vu', 'cxl4de7']>,\n",
       " Comment(id='cxl5z0u'),\n",
       " <MoreComments count=14, children=['cxl66e9', 'cxl61qc', 'cxl60xy', '...']>,\n",
       " Comment(id='cxlb0jl'),\n",
       " <MoreComments count=10, children=['cxlb3rm', 'cxlb36a', 'cxlb2l2', 'cxlb205']>,\n",
       " Comment(id='cxl82bb'),\n",
       " Comment(id='cxl8405'),\n",
       " <MoreComments count=3, children=['cxl8b8p', 'cxl8hqy']>,\n",
       " <MoreComments count=12, children=['cxl84k0', 'cxlbx0s', 'cxl8a30', '...']>,\n",
       " Comment(id='cxl7q2t'),\n",
       " <MoreComments count=4, children=['cxl7qyh', 'cxl88iu']>,\n",
       " Comment(id='cxkvcoj'),\n",
       " <MoreComments count=7, children=['cxkvmow', 'cxkvlic', 'cxkvnmw', '...']>,\n",
       " Comment(id='cxkx0qq'),\n",
       " <MoreComments count=3, children=['cxkx866', 'cxkx5an']>,\n",
       " Comment(id='cxl1w20'),\n",
       " Comment(id='cxl1ze5'),\n",
       " <MoreComments count=2, children=['cxl22yw', 'cxl23bm']>,\n",
       " <MoreComments count=8, children=['cxl1ztz', 'cxl207w', 'cxl23ut', 'cxl1za7']>,\n",
       " Comment(id='cxl8qmh'),\n",
       " <MoreComments count=9, children=['cxl9729', 'cxl9cx2', 'cxl8uzr', '...']>,\n",
       " Comment(id='cxkuw4j'),\n",
       " Comment(id='cxl13c2'),\n",
       " Comment(id='cxl36sz'),\n",
       " <MoreComments count=4, children=['cxl3kiz', 'cxl3k1w', 'cxl39fx', 'cxl3hgm']>,\n",
       " Comment(id='cxl4951'),\n",
       " <MoreComments count=4, children=['cxl4cht', 'cxl4dzf', 'cxl4bt0', 'cxl4brx']>,\n",
       " <MoreComments count=42115, children=['cxksu81', 'cxkzv2e', 'cxks4y3', '...']>]"
      ]
     },
     "execution_count": 150,
     "metadata": {},
     "output_type": "execute_result"
    }
   ],
   "source": [
    "more = not_replaced[0]\n",
    "more.comments()"
   ]
  },
  {
   "cell_type": "code",
   "execution_count": 214,
   "metadata": {
    "collapsed": false
   },
   "outputs": [],
   "source": [
    "submission_data = {\n",
    "                    'id': submission.fullname,\n",
    "                    'title': submission.title,\n",
    "                    'created_utc': submission.created_utc,\n",
    "                    'author_name' : submission.author.name,\n",
    "                    'children': [],\n",
    "                    'parent_id': \"\"\n",
    "                  }\n",
    "submission_data['children'] = comment_data\n",
    "json.dump(submission_data, open('test_submission.json', mode='w'), indent=True)"
   ]
  },
  {
   "cell_type": "code",
   "execution_count": 152,
   "metadata": {
    "collapsed": false
   },
   "outputs": [
    {
     "data": {
      "text/plain": [
       "496"
      ]
     },
     "execution_count": 152,
     "metadata": {},
     "output_type": "execute_result"
    }
   ],
   "source": [
    "def rec_sum(c):\n",
    "    if not \"children\" in c:\n",
    "        return 1\n",
    "    else:\n",
    "        return 1 + sum([rec_sum(child) for child in c[\"children\"]])\n",
    "rec_sum(submission_data)"
   ]
  },
  {
   "cell_type": "code",
   "execution_count": 129,
   "metadata": {
    "collapsed": false
   },
   "outputs": [
    {
     "data": {
      "text/plain": [
       "228"
      ]
     },
     "execution_count": 129,
     "metadata": {},
     "output_type": "execute_result"
    }
   ],
   "source": [
    "len(submission_data[\"children\"])"
   ]
  },
  {
   "cell_type": "markdown",
   "metadata": {},
   "source": [
    "## BigQueryJSON to JSON"
   ]
  },
  {
   "cell_type": "code",
   "execution_count": 226,
   "metadata": {
    "collapsed": false
   },
   "outputs": [],
   "source": [
    "from path import Path\n",
    "def fullname(jsonobj):\n",
    "    jsonobj[\"id\"] = \"t1_\" + jsonobj[\"id\"]\n",
    "    return jsonobj\n",
    "for file in [\"data/results-20170502-230026.json\"]:\n",
    "    with open(file) as bfile:\n",
    "        data = [fullname(json.loads(line)) for line in bfile.readlines()]\n",
    "    with open(\"data/data.json\", mode='w') as jfile:\n",
    "        data.append(submission_data)\n",
    "        json.dump(data, jfile)"
   ]
  },
  {
   "cell_type": "code",
   "execution_count": 219,
   "metadata": {
    "collapsed": false
   },
   "outputs": [],
   "source": [
    "parents = set([c['parent_id'] for c in data])\n"
   ]
  },
  {
   "cell_type": "code",
   "execution_count": 220,
   "metadata": {
    "collapsed": false
   },
   "outputs": [
    {
     "data": {
      "text/plain": [
       "2001"
      ]
     },
     "execution_count": 220,
     "metadata": {},
     "output_type": "execute_result"
    }
   ],
   "source": [
    "len([c for c in data if c['parent_id'] in parents])"
   ]
  },
  {
   "cell_type": "code",
   "execution_count": 227,
   "metadata": {
    "collapsed": false
   },
   "outputs": [
    {
     "data": {
      "text/plain": [
       "[{'created_utc': '1449084244',\n",
       "  'id': 't1_cxkpih0',\n",
       "  'parent_id': 't3_3v6iq7',\n",
       "  'score': '6'},\n",
       " {'created_utc': '1449084454',\n",
       "  'id': 't1_cxkpo3w',\n",
       "  'parent_id': 't3_3v6iq7',\n",
       "  'score': '-34'},\n",
       " {'created_utc': '1449084459',\n",
       "  'id': 't1_cxkpo9n',\n",
       "  'parent_id': 't3_3v6iq7',\n",
       "  'score': '3'},\n",
       " {'created_utc': '1449084528',\n",
       "  'id': 't1_cxkpq2r',\n",
       "  'parent_id': 't3_3v6iq7',\n",
       "  'score': '-2'},\n",
       " {'created_utc': '1449084608',\n",
       "  'id': 't1_cxkps5t',\n",
       "  'parent_id': 't1_cxkpo3w',\n",
       "  'score': '-6'},\n",
       " {'created_utc': '1449084666',\n",
       "  'id': 't1_cxkptpl',\n",
       "  'parent_id': 't1_cxkps5t',\n",
       "  'score': '2'},\n",
       " {'created_utc': '1449084736',\n",
       "  'id': 't1_cxkpvj6',\n",
       "  'parent_id': 't3_3v6iq7',\n",
       "  'score': '-4'},\n",
       " {'created_utc': '1449084765',\n",
       "  'id': 't1_cxkpwbv',\n",
       "  'parent_id': 't3_3v6iq7',\n",
       "  'score': '66'},\n",
       " {'created_utc': '1449084809',\n",
       "  'id': 't1_cxkpxi6',\n",
       "  'parent_id': 't3_3v6iq7',\n",
       "  'score': '-13'},\n",
       " {'created_utc': '1449084814',\n",
       "  'id': 't1_cxkpxn6',\n",
       "  'parent_id': 't3_3v6iq7',\n",
       "  'score': '534'},\n",
       " {'created_utc': '1449084866',\n",
       "  'id': 't1_cxkpz01',\n",
       "  'parent_id': 't3_3v6iq7',\n",
       "  'score': '3'},\n",
       " {'created_utc': '1449084873',\n",
       "  'id': 't1_cxkpz5r',\n",
       "  'parent_id': 't3_3v6iq7',\n",
       "  'score': '1183'},\n",
       " {'created_utc': '1449084876',\n",
       "  'id': 't1_cxkpz8w',\n",
       "  'parent_id': 't1_cxkptpl',\n",
       "  'score': '-22'},\n",
       " {'created_utc': '1449084887',\n",
       "  'id': 't1_cxkpzjl',\n",
       "  'parent_id': 't1_cxkpxn6',\n",
       "  'score': '69'},\n",
       " {'created_utc': '1449084902',\n",
       "  'id': 't1_cxkpzwo',\n",
       "  'parent_id': 't3_3v6iq7',\n",
       "  'score': '2'},\n",
       " {'created_utc': '1449084920',\n",
       "  'id': 't1_cxkq0e6',\n",
       "  'parent_id': 't3_3v6iq7',\n",
       "  'score': '3071'},\n",
       " {'created_utc': '1449084971',\n",
       "  'id': 't1_cxkq1pj',\n",
       "  'parent_id': 't3_3v6iq7',\n",
       "  'score': '-2'},\n",
       " {'created_utc': '1449084983',\n",
       "  'id': 't1_cxkq21s',\n",
       "  'parent_id': 't3_3v6iq7',\n",
       "  'score': '2'},\n",
       " {'created_utc': '1449084988',\n",
       "  'id': 't1_cxkq26d',\n",
       "  'parent_id': 't1_cxkpxi6',\n",
       "  'score': '6'},\n",
       " {'created_utc': '1449085007',\n",
       "  'id': 't1_cxkq2o9',\n",
       "  'parent_id': 't1_cxkpxn6',\n",
       "  'score': '2'}]"
      ]
     },
     "execution_count": 227,
     "metadata": {},
     "output_type": "execute_result"
    }
   ],
   "source": [
    "data[:20]"
   ]
  },
  {
   "cell_type": "code",
   "execution_count": 228,
   "metadata": {
    "collapsed": true
   },
   "outputs": [],
   "source": [
    "import pandas as pd"
   ]
  },
  {
   "cell_type": "code",
   "execution_count": 238,
   "metadata": {
    "collapsed": false
   },
   "outputs": [
    {
     "data": {
      "text/html": [
       "<div>\n",
       "<table border=\"1\" class=\"dataframe\">\n",
       "  <thead>\n",
       "    <tr style=\"text-align: right;\">\n",
       "      <th></th>\n",
       "      <th>id</th>\n",
       "      <th>by</th>\n",
       "      <th>author</th>\n",
       "      <th>time</th>\n",
       "      <th>time_ts</th>\n",
       "      <th>text</th>\n",
       "      <th>parent</th>\n",
       "      <th>deleted</th>\n",
       "      <th>dead</th>\n",
       "      <th>ranking</th>\n",
       "    </tr>\n",
       "  </thead>\n",
       "  <tbody>\n",
       "    <tr>\n",
       "      <th>0</th>\n",
       "      <td>15</td>\n",
       "      <td>sama</td>\n",
       "      <td>sama</td>\n",
       "      <td>1160423461</td>\n",
       "      <td>1.160423e+09</td>\n",
       "      <td>&amp;#34;the rising star of venture capital&amp;#34; -...</td>\n",
       "      <td>1</td>\n",
       "      <td>NaN</td>\n",
       "      <td>NaN</td>\n",
       "      <td>1</td>\n",
       "    </tr>\n",
       "    <tr>\n",
       "      <th>1</th>\n",
       "      <td>82729</td>\n",
       "      <td>vice</td>\n",
       "      <td>vice</td>\n",
       "      <td>1195735854</td>\n",
       "      <td>1.195736e+09</td>\n",
       "      <td>I'm nX 1 too&lt;p&gt;;)\\n</td>\n",
       "      <td>1</td>\n",
       "      <td>NaN</td>\n",
       "      <td>True</td>\n",
       "      <td>4</td>\n",
       "    </tr>\n",
       "    <tr>\n",
       "      <th>2</th>\n",
       "      <td>487171</td>\n",
       "      <td>jacquesm</td>\n",
       "      <td>jacquesm</td>\n",
       "      <td>1235046083</td>\n",
       "      <td>1.235046e+09</td>\n",
       "      <td>So, just to see how hard it is to make the lon...</td>\n",
       "      <td>1</td>\n",
       "      <td>NaN</td>\n",
       "      <td>NaN</td>\n",
       "      <td>0</td>\n",
       "    </tr>\n",
       "    <tr>\n",
       "      <th>3</th>\n",
       "      <td>234509</td>\n",
       "      <td>kleevr</td>\n",
       "      <td>kleevr</td>\n",
       "      <td>1215030588</td>\n",
       "      <td>1.215031e+09</td>\n",
       "      <td>sequential numbering\\n  I must be bored</td>\n",
       "      <td>1</td>\n",
       "      <td>NaN</td>\n",
       "      <td>NaN</td>\n",
       "      <td>2</td>\n",
       "    </tr>\n",
       "    <tr>\n",
       "      <th>4</th>\n",
       "      <td>454410</td>\n",
       "      <td>Arrington</td>\n",
       "      <td>Arrington</td>\n",
       "      <td>1233174694</td>\n",
       "      <td>1.233175e+09</td>\n",
       "      <td>This is why we can't have nice things.</td>\n",
       "      <td>1</td>\n",
       "      <td>NaN</td>\n",
       "      <td>True</td>\n",
       "      <td>3</td>\n",
       "    </tr>\n",
       "  </tbody>\n",
       "</table>\n",
       "</div>"
      ],
      "text/plain": [
       "       id         by     author        time       time_ts  \\\n",
       "0      15       sama       sama  1160423461  1.160423e+09   \n",
       "1   82729       vice       vice  1195735854  1.195736e+09   \n",
       "2  487171   jacquesm   jacquesm  1235046083  1.235046e+09   \n",
       "3  234509     kleevr     kleevr  1215030588  1.215031e+09   \n",
       "4  454410  Arrington  Arrington  1233174694  1.233175e+09   \n",
       "\n",
       "                                                text  parent deleted  dead  \\\n",
       "0  &#34;the rising star of venture capital&#34; -...       1     NaN   NaN   \n",
       "1                                I'm nX 1 too<p>;)\\n       1     NaN  True   \n",
       "2  So, just to see how hard it is to make the lon...       1     NaN   NaN   \n",
       "3            sequential numbering\\n  I must be bored       1     NaN   NaN   \n",
       "4             This is why we can't have nice things.       1     NaN  True   \n",
       "\n",
       "   ranking  \n",
       "0        1  \n",
       "1        4  \n",
       "2        0  \n",
       "3        2  \n",
       "4        3  "
      ]
     },
     "execution_count": 238,
     "metadata": {},
     "output_type": "execute_result"
    }
   ],
   "source": [
    "hndata = pd.read_csv(\"data/hn-results-20170503-113146.csv\", encoding=\"utf8\")\n",
    "hndata.head()"
   ]
  },
  {
   "cell_type": "code",
   "execution_count": 237,
   "metadata": {
    "collapsed": false
   },
   "outputs": [
    {
     "data": {
      "text/html": [
       "<div>\n",
       "<table border=\"1\" class=\"dataframe\">\n",
       "  <thead>\n",
       "    <tr style=\"text-align: right;\">\n",
       "      <th></th>\n",
       "      <th>by</th>\n",
       "      <th>score</th>\n",
       "      <th>time</th>\n",
       "      <th>timestamp</th>\n",
       "      <th>title</th>\n",
       "      <th>type</th>\n",
       "      <th>url</th>\n",
       "      <th>text</th>\n",
       "      <th>parent</th>\n",
       "      <th>deleted</th>\n",
       "      <th>dead</th>\n",
       "      <th>descendants</th>\n",
       "      <th>id</th>\n",
       "      <th>ranking</th>\n",
       "    </tr>\n",
       "  </thead>\n",
       "  <tbody>\n",
       "  </tbody>\n",
       "</table>\n",
       "</div>"
      ],
      "text/plain": [
       "Empty DataFrame\n",
       "Columns: [by, score, time, timestamp, title, type, url, text, parent, deleted, dead, descendants, id, ranking]\n",
       "Index: []"
      ]
     },
     "execution_count": 237,
     "metadata": {},
     "output_type": "execute_result"
    }
   ],
   "source": [
    "hndata.filter(like=\"comment\", axis=0)"
   ]
  },
  {
   "cell_type": "code",
   "execution_count": null,
   "metadata": {
    "collapsed": true
   },
   "outputs": [],
   "source": []
  }
 ],
 "metadata": {
  "kernelspec": {
   "display_name": "Python 3",
   "language": "python",
   "name": "python3"
  },
  "language_info": {
   "codemirror_mode": {
    "name": "ipython",
    "version": 3
   },
   "file_extension": ".py",
   "mimetype": "text/x-python",
   "name": "python",
   "nbconvert_exporter": "python",
   "pygments_lexer": "ipython3",
   "version": "3.6.0"
  }
 },
 "nbformat": 4,
 "nbformat_minor": 2
}
