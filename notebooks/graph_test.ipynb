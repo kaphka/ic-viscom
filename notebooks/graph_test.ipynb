{
 "cells": [
  {
   "cell_type": "markdown",
   "metadata": {},
   "source": [
    "# Test: Kommentare mit gephi visualisieren?"
   ]
  },
  {
   "cell_type": "code",
   "execution_count": 2,
   "metadata": {
    "collapsed": true
   },
   "outputs": [],
   "source": [
    "import graphviz\n",
    "import pandas as pd"
   ]
  },
  {
   "cell_type": "code",
   "execution_count": 40,
   "metadata": {
    "collapsed": true
   },
   "outputs": [],
   "source": [
    "edges = pd.read_csv('../data/comment_connections.csv')"
   ]
  },
  {
   "cell_type": "code",
   "execution_count": 41,
   "metadata": {
    "collapsed": true
   },
   "outputs": [],
   "source": [
    "edges = pd.concat([edges[['comment_id', 'author']], edges['parent_id'].str.split('_', expand=True).rename(columns={0: 'type', 1: 'parent_id'})],axis=1)"
   ]
  },
  {
   "cell_type": "code",
   "execution_count": 61,
   "metadata": {
    "collapsed": true
   },
   "outputs": [],
   "source": [
    "edges.index = edges.comment_id\n",
    "# edges = edges.drop('comment_id',1)"
   ]
  },
  {
   "cell_type": "code",
   "execution_count": 62,
   "metadata": {},
   "outputs": [
    {
     "data": {
      "text/html": [
       "<div>\n",
       "<style>\n",
       "    .dataframe thead tr:only-child th {\n",
       "        text-align: right;\n",
       "    }\n",
       "\n",
       "    .dataframe thead th {\n",
       "        text-align: left;\n",
       "    }\n",
       "\n",
       "    .dataframe tbody tr th {\n",
       "        vertical-align: top;\n",
       "    }\n",
       "</style>\n",
       "<table border=\"1\" class=\"dataframe\">\n",
       "  <thead>\n",
       "    <tr style=\"text-align: right;\">\n",
       "      <th></th>\n",
       "      <th>comment_id</th>\n",
       "      <th>author</th>\n",
       "      <th>type</th>\n",
       "      <th>parent_id</th>\n",
       "    </tr>\n",
       "    <tr>\n",
       "      <th>comment_id</th>\n",
       "      <th></th>\n",
       "      <th></th>\n",
       "      <th></th>\n",
       "      <th></th>\n",
       "    </tr>\n",
       "  </thead>\n",
       "  <tbody>\n",
       "    <tr>\n",
       "      <th>cyhtlqh</th>\n",
       "      <td>cyhtlqh</td>\n",
       "      <td>numinos710</td>\n",
       "      <td>t1</td>\n",
       "      <td>cyhtktg</td>\n",
       "    </tr>\n",
       "    <tr>\n",
       "      <th>cyhtlsy</th>\n",
       "      <td>cyhtlsy</td>\n",
       "      <td>Thatpyrodude</td>\n",
       "      <td>t3</td>\n",
       "      <td>3yyo0t</td>\n",
       "    </tr>\n",
       "    <tr>\n",
       "      <th>cyhtlv6</th>\n",
       "      <td>cyhtlv6</td>\n",
       "      <td>taffyowner</td>\n",
       "      <td>t3</td>\n",
       "      <td>3yyo0t</td>\n",
       "    </tr>\n",
       "    <tr>\n",
       "      <th>cyhtlvw</th>\n",
       "      <td>cyhtlvw</td>\n",
       "      <td>dbdb513</td>\n",
       "      <td>t1</td>\n",
       "      <td>cyhtjqt</td>\n",
       "    </tr>\n",
       "    <tr>\n",
       "      <th>cyhtlwe</th>\n",
       "      <td>cyhtlwe</td>\n",
       "      <td>TallBoy24</td>\n",
       "      <td>t1</td>\n",
       "      <td>cyhtk4t</td>\n",
       "    </tr>\n",
       "  </tbody>\n",
       "</table>\n",
       "</div>"
      ],
      "text/plain": [
       "           comment_id        author type parent_id\n",
       "comment_id                                        \n",
       "cyhtlqh       cyhtlqh    numinos710   t1   cyhtktg\n",
       "cyhtlsy       cyhtlsy  Thatpyrodude   t3    3yyo0t\n",
       "cyhtlv6       cyhtlv6    taffyowner   t3    3yyo0t\n",
       "cyhtlvw       cyhtlvw       dbdb513   t1   cyhtjqt\n",
       "cyhtlwe       cyhtlwe     TallBoy24   t1   cyhtk4t"
      ]
     },
     "execution_count": 62,
     "metadata": {},
     "output_type": "execute_result"
    }
   ],
   "source": [
    "edges.head()"
   ]
  },
  {
   "cell_type": "code",
   "execution_count": 43,
   "metadata": {
    "collapsed": true
   },
   "outputs": [],
   "source": [
    "from graphviz import Digraph\n"
   ]
  },
  {
   "cell_type": "code",
   "execution_count": 74,
   "metadata": {},
   "outputs": [
    {
     "data": {
      "text/plain": [
       "'conn.dot'"
      ]
     },
     "execution_count": 74,
     "metadata": {},
     "output_type": "execute_result"
    }
   ],
   "source": [
    "t = Digraph('connections', filename='conn.dot')\n",
    "for node in edges[edges.type != 't3'].author.unique():\n",
    "    t.node(edge.comment_id)\n",
    "for edge in edges[edges.type != 't3'].itertuples():\n",
    "#     print(edge.parent_id)\n",
    "    if edge.parent_id in edges.index:\n",
    "        t.edge(edges.ix[edge.comment_id].author, \n",
    "               edges.ix[edge.parent_id].author)\n",
    "t.save()"
   ]
  },
  {
   "cell_type": "code",
   "execution_count": 59,
   "metadata": {},
   "outputs": [
    {
     "data": {
      "text/plain": [
       "'conn.dot'"
      ]
     },
     "execution_count": 59,
     "metadata": {},
     "output_type": "execute_result"
    }
   ],
   "source": []
  },
  {
   "cell_type": "code",
   "execution_count": 51,
   "metadata": {
    "collapsed": true
   },
   "outputs": [],
   "source": [
    "edges[edges.type != 't3'].rename(columns={'comment_id': 'Source','parent_id': 'Target'}).to_csv('../data/comment_edgelist.csv')"
   ]
  },
  {
   "cell_type": "code",
   "execution_count": 52,
   "metadata": {
    "collapsed": true
   },
   "outputs": [],
   "source": [
    "edges[edges.type != 't3'].rename(columns={'comment_id': 'Id','author': 'Label'}).to_csv('../data/comment_nodes.csv')"
   ]
  },
  {
   "cell_type": "code",
   "execution_count": 60,
   "metadata": {},
   "outputs": [
    {
     "data": {
      "text/plain": [
       "5068"
      ]
     },
     "execution_count": 60,
     "metadata": {},
     "output_type": "execute_result"
    }
   ],
   "source": [
    "len(edges)"
   ]
  },
  {
   "cell_type": "code",
   "execution_count": 73,
   "metadata": {},
   "outputs": [
    {
     "data": {
      "text/plain": [
       "True"
      ]
     },
     "execution_count": 73,
     "metadata": {},
     "output_type": "execute_result"
    }
   ],
   "source": [
    "'cyhtlqh' in edges.index"
   ]
  },
  {
   "cell_type": "code",
   "execution_count": 72,
   "metadata": {},
   "outputs": [
    {
     "data": {
      "text/plain": [
       "array(['cyhtlqh', 'cyhtlsy', 'cyhtlv6', 'cyhtlvw'], dtype=object)"
      ]
     },
     "execution_count": 72,
     "metadata": {},
     "output_type": "execute_result"
    }
   ],
   "source": [
    "edges.comment_id.unique()[:4]"
   ]
  },
  {
   "cell_type": "code",
   "execution_count": null,
   "metadata": {
    "collapsed": true
   },
   "outputs": [],
   "source": []
  }
 ],
 "metadata": {
  "kernelspec": {
   "display_name": "Python 3",
   "language": "python",
   "name": "python3"
  },
  "language_info": {
   "codemirror_mode": {
    "name": "ipython",
    "version": 3
   },
   "file_extension": ".py",
   "mimetype": "text/x-python",
   "name": "python",
   "nbconvert_exporter": "python",
   "pygments_lexer": "ipython3",
   "version": "3.6.2"
  }
 },
 "nbformat": 4,
 "nbformat_minor": 2
}
